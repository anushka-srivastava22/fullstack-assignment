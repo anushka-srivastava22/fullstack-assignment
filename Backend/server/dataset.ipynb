{
  "nbformat": 4,
  "nbformat_minor": 0,
  "metadata": {
    "colab": {
      "name": "Lichess API Overview with Python",
      "provenance": []
    },
    "kernelspec": {
      "name": "python3",
      "display_name": "Python 3"
    }
  },
  "cells": [
    {
      "cell_type": "markdown",
      "metadata": {
        "id": "OXoBOPmMmEyN"
      },
      "source": [
        "# Installing Lichess API Package"
      ]
    },
    {
      "cell_type": "code",
      "metadata": {
        "id": "i5CHC3ajjvBy",
        "colab": {
          "base_uri": "https://localhost:8080/"
        },
        "outputId": "46c87c46-f148-4436-db51-339f2912ca17"
      },
      "source": [
        "!pip install berserk"
      ],
      "execution_count": 1,
      "outputs": [
        {
          "output_type": "stream",
          "text": [
            "Collecting berserk\n",
            "  Downloading https://files.pythonhosted.org/packages/1b/ce/05c8133a13fcd0f985d7350fc500ee1455cb041d83017616b78b73d9b80b/berserk-0.10.0-py2.py3-none-any.whl\n",
            "Collecting deprecated~=1.2.7\n",
            "  Downloading https://files.pythonhosted.org/packages/76/a1/05d7f62f956d77b23a640efc650f80ce24483aa2f85a09c03fb64f49e879/Deprecated-1.2.10-py2.py3-none-any.whl\n",
            "Requirement already satisfied: requests~=2.20 in /usr/local/lib/python3.6/dist-packages (from berserk) (2.23.0)\n",
            "Collecting ndjson~=0.2\n",
            "  Downloading https://files.pythonhosted.org/packages/70/c9/04ba0056011ba96a58163ebfd666d8385300bd12da1afe661a5a147758d7/ndjson-0.3.1-py2.py3-none-any.whl\n",
            "Requirement already satisfied: wrapt<2,>=1.10 in /usr/local/lib/python3.6/dist-packages (from deprecated~=1.2.7->berserk) (1.12.1)\n",
            "Requirement already satisfied: chardet<4,>=3.0.2 in /usr/local/lib/python3.6/dist-packages (from requests~=2.20->berserk) (3.0.4)\n",
            "Requirement already satisfied: idna<3,>=2.5 in /usr/local/lib/python3.6/dist-packages (from requests~=2.20->berserk) (2.10)\n",
            "Requirement already satisfied: urllib3!=1.25.0,!=1.25.1,<1.26,>=1.21.1 in /usr/local/lib/python3.6/dist-packages (from requests~=2.20->berserk) (1.24.3)\n",
            "Requirement already satisfied: certifi>=2017.4.17 in /usr/local/lib/python3.6/dist-packages (from requests~=2.20->berserk) (2020.12.5)\n",
            "Installing collected packages: deprecated, ndjson, berserk\n",
            "Successfully installed berserk-0.10.0 deprecated-1.2.10 ndjson-0.3.1\n"
          ],
          "name": "stdout"
        }
      ]
    },
    {
      "cell_type": "markdown",
      "metadata": {
        "id": "_sEADTMQmC-T"
      },
      "source": [
        "# Loading the Package"
      ]
    },
    {
      "cell_type": "code",
      "metadata": {
        "id": "_AFiNqqrl5tj"
      },
      "source": [
        "import berserk"
      ],
      "execution_count": 3,
      "outputs": []
    },
    {
      "cell_type": "markdown",
      "metadata": {
        "id": "rXoBhFHWmHVv"
      },
      "source": [
        "# Authentication with Personal Token & Session\n",
        "\n",
        "---\n",
        "\n"
      ]
    },
    {
      "cell_type": "code",
      "metadata": {
        "id": "BWiWluaRl_eP"
      },
      "source": [
        "session = berserk.TokenSession(token)\n",
        "client = berserk.Client(session=session)"
      ],
      "execution_count": 4,
      "outputs": []
    },
    {
      "cell_type": "markdown",
      "metadata": {
        "id": "6ncfrbNqmbd2"
      },
      "source": [
        "# Get Account Details"
      ]
    },
    {
      "cell_type": "code",
      "metadata": {
        "colab": {
          "base_uri": "https://localhost:8080/"
        },
        "id": "5uDF8_zimN_i",
        "outputId": "1e034452-e43c-41ae-b971-d5dba8b5696a"
      },
      "source": [
        "client.account.get()"
      ],
      "execution_count": 5,
      "outputs": [
        {
          "output_type": "execute_result",
          "data": {
            "text/plain": [
              "{'blocking': False,\n",
              " 'completionRate': 93,\n",
              " 'count': {'ai': 0,\n",
              "  'all': 2697,\n",
              "  'bookmark': 0,\n",
              "  'draw': 75,\n",
              "  'drawH': 75,\n",
              "  'import': 0,\n",
              "  'loss': 1314,\n",
              "  'lossH': 1314,\n",
              "  'me': 0,\n",
              "  'playing': 0,\n",
              "  'rated': 2697,\n",
              "  'win': 1308,\n",
              "  'winH': 1308},\n",
              " 'createdAt': datetime.datetime(2020, 10, 24, 17, 56, 0, 200000, tzinfo=datetime.timezone.utc),\n",
              " 'followable': True,\n",
              " 'following': False,\n",
              " 'followsYou': False,\n",
              " 'id': 'littlecoder',\n",
              " 'language': 'en-GB',\n",
              " 'nbFollowers': 3,\n",
              " 'nbFollowing': 1,\n",
              " 'online': True,\n",
              " 'perfs': {'blitz': {'games': 736, 'prog': 40, 'rating': 1226, 'rd': 45},\n",
              "  'bullet': {'games': 1835, 'prog': 31, 'rating': 1437, 'rd': 46},\n",
              "  'classical': {'games': 0,\n",
              "   'prog': 0,\n",
              "   'prov': True,\n",
              "   'rating': 1500,\n",
              "   'rd': 500},\n",
              "  'correspondence': {'games': 0,\n",
              "   'prog': 0,\n",
              "   'prov': True,\n",
              "   'rating': 1500,\n",
              "   'rd': 500},\n",
              "  'puzzle': {'games': 383,\n",
              "   'prog': 21,\n",
              "   'prov': True,\n",
              "   'rating': 1776,\n",
              "   'rd': 180},\n",
              "  'rapid': {'games': 0, 'prog': 0, 'prov': True, 'rating': 1500, 'rd': 500},\n",
              "  'ultraBullet': {'games': 126, 'prog': 2, 'rating': 1289, 'rd': 53}},\n",
              " 'playTime': {'total': 407766, 'tv': 0},\n",
              " 'seenAt': datetime.datetime(2020, 12, 30, 16, 56, 29, 851000, tzinfo=datetime.timezone.utc),\n",
              " 'url': 'https://lichess.org/@/littlecoder',\n",
              " 'username': 'littlecoder'}"
            ]
          },
          "metadata": {
            "tags": []
          },
          "execution_count": 5
        }
      ]
    },
    {
      "cell_type": "markdown",
      "metadata": {
        "id": "t4JVJc20mpdK"
      },
      "source": [
        "# Top 10 - Leaderboard"
      ]
    },
    {
      "cell_type": "code",
      "metadata": {
        "colab": {
          "base_uri": "https://localhost:8080/"
        },
        "id": "5v45e0hAmcg_",
        "outputId": "2fd470d2-3adc-4ff2-ccde-15bc28cb7851"
      },
      "source": [
        "client.users.get_leaderboard('blitz', count=11)"
      ],
      "execution_count": 7,
      "outputs": [
        {
          "output_type": "execute_result",
          "data": {
            "text/plain": [
              "[{'id': 'liem_chess',\n",
              "  'perfs': {'blitz': {'progress': 43, 'rating': 2901}},\n",
              "  'title': 'GM',\n",
              "  'username': 'Liem_Chess'},\n",
              " {'id': 'crecent',\n",
              "  'perfs': {'blitz': {'progress': -12, 'rating': 2899}},\n",
              "  'username': 'Crecent'},\n",
              " {'id': 'cutemouse83',\n",
              "  'online': True,\n",
              "  'perfs': {'blitz': {'progress': -13, 'rating': 2877}},\n",
              "  'username': 'cutemouse83'},\n",
              " {'id': 'dolar9',\n",
              "  'online': True,\n",
              "  'perfs': {'blitz': {'progress': 34, 'rating': 2858}},\n",
              "  'title': 'IM',\n",
              "  'username': 'dolar9'},\n",
              " {'id': 'alexander_zubov',\n",
              "  'perfs': {'blitz': {'progress': -4, 'rating': 2848}},\n",
              "  'title': 'GM',\n",
              "  'username': 'Alexander_Zubov'},\n",
              " {'id': 'may6enexttime',\n",
              "  'online': True,\n",
              "  'perfs': {'blitz': {'progress': 16, 'rating': 2832}},\n",
              "  'title': 'GM',\n",
              "  'username': 'may6enexttime'},\n",
              " {'id': 'dalmatinac101',\n",
              "  'patron': True,\n",
              "  'perfs': {'blitz': {'progress': 22, 'rating': 2824}},\n",
              "  'title': 'GM',\n",
              "  'username': 'dalmatinac101'},\n",
              " {'id': 'drvitman',\n",
              "  'online': True,\n",
              "  'perfs': {'blitz': {'progress': 24, 'rating': 2824}},\n",
              "  'title': 'GM',\n",
              "  'username': 'Drvitman'},\n",
              " {'id': 'benefactorr',\n",
              "  'online': True,\n",
              "  'perfs': {'blitz': {'progress': 5, 'rating': 2823}},\n",
              "  'title': 'GM',\n",
              "  'username': 'Benefactorr'},\n",
              " {'id': 'king_herod',\n",
              "  'perfs': {'blitz': {'progress': 52, 'rating': 2819}},\n",
              "  'username': 'King_Herod'},\n",
              " {'id': 'ogrilla',\n",
              "  'perfs': {'blitz': {'progress': -10, 'rating': 2815}},\n",
              "  'title': 'GM',\n",
              "  'username': 'Ogrilla'}]"
            ]
          },
          "metadata": {
            "tags": []
          },
          "execution_count": 7
        }
      ]
    },
    {
      "cell_type": "markdown",
      "metadata": {
        "id": "FlEV8hEUnBkt"
      },
      "source": [
        "# Rating History"
      ]
    },
    {
      "cell_type": "code",
      "metadata": {
        "colab": {
          "base_uri": "https://localhost:8080/"
        },
        "id": "K_Y0jjc9msY-",
        "outputId": "1bd9bf5b-a2f2-4dcd-9850-671fc103db24"
      },
      "source": [
        "client.users.get_rating_history(username = 'littlecoder')[0]['points']"
      ],
      "execution_count": 10,
      "outputs": [
        {
          "output_type": "execute_result",
          "data": {
            "text/plain": [
              "[Entry(year=2020, month=9, day=24, rating=1194),\n",
              " Entry(year=2020, month=9, day=25, rating=1181),\n",
              " Entry(year=2020, month=9, day=26, rating=1244),\n",
              " Entry(year=2020, month=9, day=27, rating=1273),\n",
              " Entry(year=2020, month=9, day=28, rating=1249),\n",
              " Entry(year=2020, month=9, day=29, rating=1317),\n",
              " Entry(year=2020, month=9, day=30, rating=1238),\n",
              " Entry(year=2020, month=9, day=31, rating=1217),\n",
              " Entry(year=2020, month=10, day=1, rating=1256),\n",
              " Entry(year=2020, month=10, day=2, rating=1282),\n",
              " Entry(year=2020, month=10, day=3, rating=1358),\n",
              " Entry(year=2020, month=10, day=4, rating=1400),\n",
              " Entry(year=2020, month=10, day=5, rating=1416),\n",
              " Entry(year=2020, month=10, day=6, rating=1372),\n",
              " Entry(year=2020, month=10, day=7, rating=1355),\n",
              " Entry(year=2020, month=10, day=8, rating=1317),\n",
              " Entry(year=2020, month=10, day=9, rating=1291),\n",
              " Entry(year=2020, month=10, day=10, rating=1309),\n",
              " Entry(year=2020, month=10, day=11, rating=1385),\n",
              " Entry(year=2020, month=10, day=12, rating=1374),\n",
              " Entry(year=2020, month=10, day=13, rating=1370),\n",
              " Entry(year=2020, month=10, day=14, rating=1301),\n",
              " Entry(year=2020, month=10, day=15, rating=1305),\n",
              " Entry(year=2020, month=10, day=16, rating=1301),\n",
              " Entry(year=2020, month=10, day=17, rating=1346),\n",
              " Entry(year=2020, month=10, day=18, rating=1400),\n",
              " Entry(year=2020, month=10, day=19, rating=1382),\n",
              " Entry(year=2020, month=10, day=20, rating=1397),\n",
              " Entry(year=2020, month=10, day=21, rating=1426),\n",
              " Entry(year=2020, month=10, day=22, rating=1426),\n",
              " Entry(year=2020, month=10, day=24, rating=1414),\n",
              " Entry(year=2020, month=10, day=25, rating=1416),\n",
              " Entry(year=2020, month=10, day=26, rating=1411),\n",
              " Entry(year=2020, month=10, day=27, rating=1429),\n",
              " Entry(year=2020, month=10, day=28, rating=1402),\n",
              " Entry(year=2020, month=10, day=30, rating=1396),\n",
              " Entry(year=2020, month=11, day=1, rating=1367),\n",
              " Entry(year=2020, month=11, day=2, rating=1367),\n",
              " Entry(year=2020, month=11, day=3, rating=1397),\n",
              " Entry(year=2020, month=11, day=4, rating=1401),\n",
              " Entry(year=2020, month=11, day=5, rating=1374),\n",
              " Entry(year=2020, month=11, day=6, rating=1369),\n",
              " Entry(year=2020, month=11, day=7, rating=1408),\n",
              " Entry(year=2020, month=11, day=8, rating=1453),\n",
              " Entry(year=2020, month=11, day=9, rating=1434),\n",
              " Entry(year=2020, month=11, day=10, rating=1417),\n",
              " Entry(year=2020, month=11, day=11, rating=1343),\n",
              " Entry(year=2020, month=11, day=12, rating=1304),\n",
              " Entry(year=2020, month=11, day=13, rating=1319),\n",
              " Entry(year=2020, month=11, day=14, rating=1286),\n",
              " Entry(year=2020, month=11, day=16, rating=1326),\n",
              " Entry(year=2020, month=11, day=17, rating=1323),\n",
              " Entry(year=2020, month=11, day=18, rating=1337),\n",
              " Entry(year=2020, month=11, day=19, rating=1393),\n",
              " Entry(year=2020, month=11, day=21, rating=1388),\n",
              " Entry(year=2020, month=11, day=22, rating=1394),\n",
              " Entry(year=2020, month=11, day=23, rating=1399),\n",
              " Entry(year=2020, month=11, day=26, rating=1406),\n",
              " Entry(year=2020, month=11, day=27, rating=1407),\n",
              " Entry(year=2020, month=11, day=28, rating=1437)]"
            ]
          },
          "metadata": {
            "tags": []
          },
          "execution_count": 10
        }
      ]
    },
    {
      "cell_type": "code",
      "metadata": {
        "id": "uJt0KFMfnFIz"
      },
      "source": [
        ""
      ],
      "execution_count": null,
      "outputs": []
    }
  ]
}